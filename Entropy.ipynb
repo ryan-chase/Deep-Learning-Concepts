{
 "cells": [
  {
   "cell_type": "markdown",
   "metadata": {},
   "source": [
    "## What is Entropy and Where is it Used?"
   ]
  },
  {
   "cell_type": "markdown",
   "metadata": {},
   "source": [
    "### Background and Problem Set Up\n",
    "\n",
    "In the world of information theory, entropy measures the amount of information that can be gained by knowing the value of a certain random variable. \n",
    "\n",
    "For example, let's say that we're an insurance company with historical data about our customers and the insurance discount they've received, and we'd like to build a model to predict what the discount was for any customer in the past given information such as the customer's zip code, age, and lifestyle. \n",
    "\n",
    "...note: alternatively, the model could be used to recommend/suggest a discount rate for a _prospective customer_ based on their zip code, age, and lifestyle).    \n",
    "\n",
    "Let's assume that the insucance discounts are _grouped_ into the following two buckets or categories: \n",
    "\n",
    "1. 1%-15%\n",
    "2. 6%-15%\n",
    "\n",
    "We'd like to predict which insuance discount bucket, or class that our customers were awarded, so this can be designed as a classification problem in which we choose to build a decision tree (link for info on decision trees). \n",
    "\n",
    "In order to make our prediction, we'd like to know which varialbe (or it's value?) matters the most in terms of it's ability to predict our target variable, the insurnance discount. Let's start with the \"Age\" variable.  We're interested in understanding how much information can be gained regarding the insurance discount received based on knowing the age of our customers. In other words, how much does knowing the value of the customer's age matter in predicting the insurance discount the customer received? To do this, we need to understand the concept of entropy... \n"
   ]
  },
  {
   "cell_type": "markdown",
   "metadata": {},
   "source": [
    "There are three different values for the customer's age variable in the dataset: 20-30, 30-40, and 40-50.  Therefore, we'll begin by calculating the entropy for each.  Here's the equation: \n",
    "\n",
    "<equation here> \n",
    "<equation specific to entropy>\n",
    "\n",
    "now we'll develop the intuition by explaining each part. \n",
    "\n",
    "The 2/2 is simply representing that out of the two records in which the customer's age is in the 20-30 range (the denominator), 2 of them (all of them in this case) received the same discount (in our case both happened to receive the 1%-5% discount).  We can think of this percentage as how pure/consistant/singular/non-varying the amount of the discount received was within our specific age group.  \n",
    "\n",
    "In the next term of the equation we simply take the log of the same percentage- ie. log(2/2).  The purpose of this is that it just converts our percentage to simple value between -negative infinity??? and 0.  The closer our percentage is to 1 (i.e. the more pure/consistant/singular/non-varying it is), then this log tranformation converts the entropy to a value closer to 0. \n",
    "\n",
    "(see Section 1.1 to see what this log transfomation actually does...) \n",
    "\n",
    "\n",
    "then we do the same thing for the remaining other age classes... \n",
    "\n",
    "\n",
    "Finally, we weight the entropy calculated for each class by the frequency of that age group occuring in the data: \n"
   ]
  },
  {
   "cell_type": "markdown",
   "metadata": {},
   "source": [
    "### 1.1 Purpose of the log transformation in the Entropy equation"
   ]
  },
  {
   "cell_type": "code",
   "execution_count": null,
   "metadata": {
    "collapsed": true
   },
   "outputs": [],
   "source": [
    "import numpy as np\n",
    "import matplotlib.pyplot as plt"
   ]
  },
  {
   "cell_type": "code",
   "execution_count": 6,
   "metadata": {},
   "outputs": [
    {
     "name": "stderr",
     "output_type": "stream",
     "text": [
      "/Users/rchase/anaconda/lib/python3.6/site-packages/ipykernel_launcher.py:2: RuntimeWarning: divide by zero encountered in log2\n",
      "  \n"
     ]
    },
    {
     "data": {
      "text/plain": [
       "[<matplotlib.lines.Line2D at 0x10a4a2d30>]"
      ]
     },
     "execution_count": 6,
     "metadata": {},
     "output_type": "execute_result"
    }
   ],
   "source": [
    "x = np.arange(0., 1, .1)\n",
    "y = np.log2(x)\n",
    "plt.plot(x, y)"
   ]
  },
  {
   "cell_type": "code",
   "execution_count": 7,
   "metadata": {},
   "outputs": [
    {
     "data": {
      "image/png": "[encoded data removed]",
      "text/plain": [
       "<matplotlib.figure.Figure at 0x10a457358>"
      ]
     },
     "metadata": {},
     "output_type": "display_data"
    }
   ],
   "source": [
    "plt.show()"
   ]
  },
  {
   "cell_type": "markdown",
   "metadata": {},
   "source": [
    "Sources: Predictive Analytics For Dummies (pg. 160)"
   ]
  },
  {
   "cell_type": "code",
   "execution_count": null,
   "metadata": {
    "collapsed": true
   },
   "outputs": [],
   "source": []
  }
 ],
 "metadata": {
  "kernelspec": {
   "display_name": "Python 3",
   "language": "python",
   "name": "python3"
  },
  "language_info": {
   "codemirror_mode": {
    "name": "ipython",
    "version": 3
   },
   "file_extension": ".py",
   "mimetype": "text/x-python",
   "name": "python",
   "nbconvert_exporter": "python",
   "pygments_lexer": "ipython3",
   "version": "3.6.1"
  }
 },
 "nbformat": 4,
 "nbformat_minor": 2
}
